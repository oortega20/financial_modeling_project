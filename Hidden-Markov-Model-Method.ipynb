{
 "cells": [
  {
   "cell_type": "code",
   "execution_count": null,
   "metadata": {
    "collapsed": true
   },
   "outputs": [],
   "source": [
    "%matplotlib inline\n",
    "import quandl as Quandl\n",
    "Quandl.ApiConfig.api_key = \"_ktbP7wTMU7jSPHGDae7\"\n",
    "import numpy as np\n",
    "import pandas as pd\n",
    "import math\n",
    "from sklearn import *\n",
    "from sklearn.linear_model import LinearRegression\n",
    "import matplotlib.pyplot as plt\n",
    "from matplotlib import style\n",
    "import datetime\n",
    "from hmmlearn import hmm"
   ]
  },
  {
   "cell_type": "code",
   "execution_count": null,
   "metadata": {
    "collapsed": false
   },
   "outputs": [],
   "source": [
    "gl = pd.read_csv(\"google.csv\")"
   ]
  },
  {
   "cell_type": "code",
   "execution_count": null,
   "metadata": {
    "collapsed": true
   },
   "outputs": [],
   "source": [
    "#setting parameters\n",
    "num_days = 365\n",
    "k = 50\n",
    "num_iters = 10000\n",
    "# Possible number of states in Markov Model\n",
    "state_range_min = 2\n",
    "state_range_max = 15\n",
    "state_range = range(state_range_min, state_range_max)"
   ]
  },
  {
   "cell_type": "code",
   "execution_count": null,
   "metadata": {
    "collapsed": true
   },
   "outputs": [],
   "source": [
    "# defining helper methods\n",
    "\n",
    "# Calculate Mean Absolute Percentage Error of predictions\n",
    "def calc_mape(forecast, actual):\n",
    "    return np.divide(np.sum(np.divide(np.absolute(forecast - actual), actual), 0), actual.shape[0])\n",
    "\n",
    "# Calculate the Bayesian Information Criterion\n",
    "def calc_bic(num_params, score, n):\n",
    "    return num_params * np.log(n) - 2 * score\n",
    "\n",
    "# Find the optimal states in state_range with respect to the BIC score.\n",
    "def find_opt_states(dataset, num_ters=1000):\n",
    "    #Note, since the EM algorithm is a gradient-based optimization method, \n",
    "    #it will generally get stuck in local optima. \n",
    "    #You should in general try to run fit with various initializations and select the highest scored model.\n",
    "    bic_vect = np.empty([0,1])\n",
    "    for states in state_range: #try all different configurations of states\n",
    "        model = hmm.GaussianHMM(n_components=states, covariance_type='full', tol=0.0001, n_iter=num_iters)\n",
    "        model.fit(dataset.iloc[num_days:,:]) #fit using historical data. All but the most recent 365 days\n",
    "        current_score = model.score(dataset)\n",
    "        num_params = states**2 + states \n",
    "        bic_vect = np.vstack((bic_vect, calc_bic(num_params, current_score, dataset.shape[0])))\n",
    "    opt_states = np.argmin(bic_vect) + state_range_min\n",
    "    return opt_states\n",
    "\n",
    "def predict(dataset, opt_states, num_days, k, num_iters):\n",
    "    predicted_stock_data = np.empty([0,dataset.shape[1]])\n",
    "    for idx in reversed(range(num_days)):\n",
    "        train_dataset = dataset.iloc[idx + 1:,:]\n",
    "        test_data = dataset.iloc[idx,:]; \n",
    "        num_examples = train_dataset.shape[0]\n",
    "        if idx == num_days - 1:\n",
    "            # If it's the first time around, use stmc to initialize.\n",
    "            model = hmm.GaussianHMM(n_components=opt_states, covariance_type='full', tol=0.0001, n_iter=num_iters, init_params='stmc')\n",
    "        else:\n",
    "            # Retune the model by using the HMM paramters from the previous iterations as the prior\n",
    "            model = hmm.GaussianHMM(n_components=opt_states, covariance_type='full', tol=0.0001, n_iter=num_iters, init_params='')\n",
    "            model.transmat_ = transmat_retune_prior \n",
    "            model.startprob_ = startprob_retune_prior\n",
    "            model.means_ = means_retune_prior\n",
    "            model.covars_ = covars_retune_prior\n",
    "\n",
    "        model.fit(np.flipud(train_dataset))\n",
    "\n",
    "        transmat_retune_prior = model.transmat_\n",
    "        startprob_retune_prior = model.startprob_\n",
    "        means_retune_prior = model.means_\n",
    "        covars_retune_prior = model.covars_\n",
    "        iters = 1;\n",
    "        past_likelihood = []\n",
    "        curr_likelihood = model.score(np.flipud(train_dataset.iloc[0:k - 1, :]))\n",
    "        while iters < num_examples / k - 1:\n",
    "            past_likelihood = np.append(past_likelihood, model.score(np.flipud(train_dataset.iloc[iters:iters + k - 1, :])))\n",
    "            iters = iters + 1\n",
    "        likelihood_diff_idx = np.argmin(np.absolute(past_likelihood - curr_likelihood))\n",
    "        predicted_change = train_dataset.iloc[likelihood_diff_idx,:] - train_dataset.iloc[likelihood_diff_idx + 1,:]\n",
    "        predicted_stock_data = np.vstack((predicted_stock_data, dataset.iloc[idx + 1,:] + predicted_change))\n",
    "        return predicted_stock_data"
   ]
  },
  {
   "cell_type": "code",
   "execution_count": null,
   "metadata": {
    "collapsed": false
   },
   "outputs": [],
   "source": [
    "dataset = gl[['Adj. Open','Adj. High', 'Adj. Low', 'Adj. Close']].copy()\n",
    "dataset = dataset.iloc[::-1] #reverse the dataframe so we have the recent data at the top.\n",
    "opt_state = find_opt_states(dataset)\n",
    "dataset = gl[['Adj. Open','Adj. High', 'Adj. Low', 'Adj. Close']].copy()\n",
    "dataset = dataset.iloc[::-1] #reverse the dataframe so we have the recent data at the top.\n",
    "predicted_stock_data = predict(dataset, opt_state, num_days, k, num_iters)"
   ]
  },
  {
   "cell_type": "code",
   "execution_count": null,
   "metadata": {
    "collapsed": false
   },
   "outputs": [],
   "source": [
    "mape = calc_mape(predicted_stock_data, np.flipud(dataset.iloc[range(num_days),:]))\n",
    "print('MAPE is ',mape)"
   ]
  },
  {
   "cell_type": "code",
   "execution_count": null,
   "metadata": {
    "collapsed": false
   },
   "outputs": [],
   "source": [
    "plt.plot(np.flipud((dataset[:365].reset_index()['Adj. Close'])), color = 'salmon', alpha = 0.5, label='Actual')\n",
    "plt.plot(predicted_stock_data[:,3], color = 'lightblue', alpha = 0.5, label='Forecast')\n",
    "plt.xlabel('Days')\n",
    "plt.ylabel('Adj. Close')\n",
    "plt.title('Google adjusted close price for 365 days')\n",
    "plt.legend()\n",
    "plt.savefig('adjustclose.png',dpi=300)"
   ]
  },
  {
   "cell_type": "code",
   "execution_count": null,
   "metadata": {
    "collapsed": true
   },
   "outputs": [],
   "source": []
  }
 ],
 "metadata": {
  "anaconda-cloud": {},
  "kernelspec": {
   "display_name": "Python [default]",
   "language": "python",
   "name": "python3"
  },
  "language_info": {
   "codemirror_mode": {
    "name": "ipython",
    "version": 3
   },
   "file_extension": ".py",
   "mimetype": "text/x-python",
   "name": "python",
   "nbconvert_exporter": "python",
   "pygments_lexer": "ipython3",
   "version": "3.5.2"
  }
 },
 "nbformat": 4,
 "nbformat_minor": 2
}
